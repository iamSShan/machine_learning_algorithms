{
 "cells": [
  {
   "cell_type": "markdown",
   "id": "3cd295cb",
   "metadata": {},
   "source": [
    "## Introduction:\n",
    "* Power of a hypothesis is the probability of rejecting a false null hypothesis.\n",
    "* Power is ability to make correct decision in layman terms. Or probability of not making a Type-2 error.\n",
    "\n",
    "\n",
    "* It is given as 1- β\n",
    "    (β is probability of committing Type-2 error)\n",
    "* 1-β is known as the power function. The value of power function is called as power of the test.\n",
    "* 1-β = P(x ∈ w/H1) // when H1 is true and H0 is false; w is critical region or rejection region where all sample points fall null hypothesis is going to be rejected.\n",
    "* *(β is probability of accepting H0 so 1-β will be opposite of that only.)*\n",
    "\n",
    "\n",
    "* It is also known as purchasing power of the consumer, that is the reason it is called as 'power'. Here bad lot(sample) is going to be rejected. So power of the test is showing how good a sample is, whether it matches for whole population or not.\n",
    "\n",
    "\n",
    "* A power of at least 0.8(80%) is a common requirement for a hypothesis test.\n",
    "* If we know the significance level(α) and the minimum required power, allows a researcher to determine a minimum sample size needed for study\n",
    "* *A type I error (false-positive) occurs if an investigator rejects a null hypothesis that is actually true in the population; a type II error (false-negative) occurs if the investigator fails to reject a null hypothesis that is actually false in the population*.\n",
    "\n"
   ]
  },
  {
   "cell_type": "code",
   "execution_count": null,
   "id": "4a0165e4",
   "metadata": {},
   "outputs": [],
   "source": []
  }
 ],
 "metadata": {
  "kernelspec": {
   "display_name": "mldl",
   "language": "python",
   "name": "mldl"
  },
  "language_info": {
   "codemirror_mode": {
    "name": "ipython",
    "version": 3
   },
   "file_extension": ".py",
   "mimetype": "text/x-python",
   "name": "python",
   "nbconvert_exporter": "python",
   "pygments_lexer": "ipython3",
   "version": "3.8.15"
  }
 },
 "nbformat": 4,
 "nbformat_minor": 5
}
