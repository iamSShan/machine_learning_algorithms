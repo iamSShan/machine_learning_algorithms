{
 "cells": [
  {
   "cell_type": "code",
   "execution_count": 1,
   "metadata": {},
   "outputs": [],
   "source": [
    "import numpy as np\n",
    "import matplotlib.pyplot as plt"
   ]
  },
  {
   "cell_type": "code",
   "execution_count": 3,
   "metadata": {},
   "outputs": [],
   "source": [
    "dataset= [11,10,12,14,12,15,14,13,15,102,12,14,17,19,107, 10,13,12,14,12,108,12,11,14,13,15,10,15,12,10,14,13,15,10]"
   ]
  },
  {
   "cell_type": "markdown",
   "metadata": {},
   "source": [
    "## Detecting outlier using Z score\n",
    "\n",
    "### Using Z score\n",
    "Formula for Z score = (Observation — Mean)/Standard Deviation\n",
    "\n",
    "z = (X — μ) / σ"
   ]
  },
  {
   "cell_type": "code",
   "execution_count": 5,
   "metadata": {},
   "outputs": [
    {
     "name": "stdout",
     "output_type": "stream",
     "text": [
      "[102, 107, 108]\n"
     ]
    }
   ],
   "source": [
    "outliers = []\n",
    "def detect_outliers(data):\n",
    "    threshold = 3 # Within 3rd standard deviation the data point should fall to not be in outlier category\n",
    "    mean = np.mean(data)\n",
    "    std_dev = np.std(data)\n",
    "    for x in data:\n",
    "        z_score = (x - mean) / std_dev\n",
    "        if np.abs(z_score) > threshold:\n",
    "            outliers.append(x)\n",
    "    return outliers\n",
    "\n",
    "outlier_zs = detect_outliers(dataset)\n",
    "print(outlier_zs)"
   ]
  },
  {
   "cell_type": "markdown",
   "metadata": {},
   "source": [
    "## InterQuartile Range\n",
    "\n",
    "### 75%- 25% values in a dataset\n",
    "\n",
    "Steps\n",
    "1. Arrange the data in increasing order\n",
    "2. Calculate first quantile(q1) i.e 25 percentile and third quartile(q3) i.e 75 percentile\n",
    "3. Find interquartile range (q3-q1)\n",
    "4. Find lower bound q1*1.5 // Lower bound means below what point, we can consider it as outlier\n",
    "5. Find upper bound q3*1.5 // Higher bound means above what point, we can consider it as outlier\n",
    "\n",
    "\n",
    "( Why 1.5 is taken: Read this to know: https://towardsdatascience.com/why-1-5-in-iqr-method-of-outlier-detection-5d07fdc82097 )\n",
    "\n",
    "Anything that lies outside of lower and upper bound is an outlier"
   ]
  },
  {
   "cell_type": "code",
   "execution_count": 6,
   "metadata": {},
   "outputs": [
    {
     "name": "stdout",
     "output_type": "stream",
     "text": [
      "12.0 15.0\n"
     ]
    }
   ],
   "source": [
    "sorted_dataset = sorted(dataset)\n",
    "# Get 25th percentie and 75th percentile\n",
    "quantile1, quantile3 = np.percentile(sorted_dataset,[25,75])\n",
    "print(quantile1, quantile3)"
   ]
  },
  {
   "cell_type": "code",
   "execution_count": 7,
   "metadata": {},
   "outputs": [
    {
     "name": "stdout",
     "output_type": "stream",
     "text": [
      "3.0\n"
     ]
    }
   ],
   "source": [
    "iqr_value = quantile3-quantile1\n",
    "print(iqr_value)"
   ]
  },
  {
   "cell_type": "code",
   "execution_count": 11,
   "metadata": {},
   "outputs": [],
   "source": [
    "## Find the lower bound value and the higher bound value\n",
    "\n",
    "lower_bound_val = quantile1 - (1.5 * iqr_value) \n",
    "upper_bound_val = quantile3 + (1.5 * iqr_value)"
   ]
  },
  {
   "cell_type": "code",
   "execution_count": 12,
   "metadata": {},
   "outputs": [
    {
     "name": "stdout",
     "output_type": "stream",
     "text": [
      "7.5 19.5\n"
     ]
    }
   ],
   "source": [
    "print(lower_bound_val,upper_bound_val)"
   ]
  }
 ],
 "metadata": {
  "kernelspec": {
   "display_name": "Python [conda env:mldl] *",
   "language": "python",
   "name": "conda-env-mldl-py"
  },
  "language_info": {
   "codemirror_mode": {
    "name": "ipython",
    "version": 3
   },
   "file_extension": ".py",
   "mimetype": "text/x-python",
   "name": "python",
   "nbconvert_exporter": "python",
   "pygments_lexer": "ipython3",
   "version": "3.6.9"
  }
 },
 "nbformat": 4,
 "nbformat_minor": 2
}
