{
 "cells": [
  {
   "cell_type": "markdown",
   "metadata": {},
   "source": [
    "## Introduction:\n",
    "* It stands for Linear Discriminant Analysis\n",
    "\n",
    "### Similarities and difference between PCA and LDA:\n",
    "\n",
    "Similarities:\n",
    "* Both are dimension reduction techniques\n",
    "* Both use eigen vector and eigen value concept\n",
    "\n",
    "Difference:\n",
    "* Purpose of PCA is to capture maximum variance using principal components.\n",
    "* Purpose of LDA is to provide separation boundary\n",
    "\n",
    "\n",
    "* Let's say we have 2 feature Cibil score and whether a customer good or bad.\n",
    "* So what LDA does we maximize the difference between mean of the groups(in above eg groups are 2). It means if we means is less then separation is not good.  (μ1^2 - μ2^2)\n",
    "* And LDA tries to minimize the sum of variance. (S1^2 + S2^2).\n",
    "* So, this becomes cost function of LDA"
   ]
  }
 ],
 "metadata": {
  "kernelspec": {
   "display_name": "Python [conda env:mldl] *",
   "language": "python",
   "name": "conda-env-mldl-py"
  },
  "language_info": {
   "codemirror_mode": {
    "name": "ipython",
    "version": 3
   },
   "file_extension": ".py",
   "mimetype": "text/x-python",
   "name": "python",
   "nbconvert_exporter": "python",
   "pygments_lexer": "ipython3",
   "version": "3.6.9"
  }
 },
 "nbformat": 4,
 "nbformat_minor": 2
}
