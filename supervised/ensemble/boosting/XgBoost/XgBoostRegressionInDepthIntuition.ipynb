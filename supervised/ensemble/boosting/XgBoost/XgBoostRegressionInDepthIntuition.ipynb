{
 "cells": [
  {
   "cell_type": "code",
   "execution_count": 3,
   "metadata": {},
   "outputs": [
    {
     "data": {
      "text/html": [
       "<div>\n",
       "<style scoped>\n",
       "    .dataframe tbody tr th:only-of-type {\n",
       "        vertical-align: middle;\n",
       "    }\n",
       "\n",
       "    .dataframe tbody tr th {\n",
       "        vertical-align: top;\n",
       "    }\n",
       "\n",
       "    .dataframe thead th {\n",
       "        text-align: right;\n",
       "    }\n",
       "</style>\n",
       "<table border=\"1\" class=\"dataframe\">\n",
       "  <thead>\n",
       "    <tr style=\"text-align: right;\">\n",
       "      <th></th>\n",
       "      <th>Exp</th>\n",
       "      <th>Gap</th>\n",
       "      <th>Salary</th>\n",
       "    </tr>\n",
       "  </thead>\n",
       "  <tbody>\n",
       "    <tr>\n",
       "      <th>0</th>\n",
       "      <td>2.0</td>\n",
       "      <td>Yes</td>\n",
       "      <td>40</td>\n",
       "    </tr>\n",
       "    <tr>\n",
       "      <th>1</th>\n",
       "      <td>2.5</td>\n",
       "      <td>Yes</td>\n",
       "      <td>42</td>\n",
       "    </tr>\n",
       "    <tr>\n",
       "      <th>2</th>\n",
       "      <td>3.0</td>\n",
       "      <td>No</td>\n",
       "      <td>52</td>\n",
       "    </tr>\n",
       "    <tr>\n",
       "      <th>3</th>\n",
       "      <td>4.0</td>\n",
       "      <td>No</td>\n",
       "      <td>60</td>\n",
       "    </tr>\n",
       "    <tr>\n",
       "      <th>4</th>\n",
       "      <td>4.5</td>\n",
       "      <td>Yes</td>\n",
       "      <td>62</td>\n",
       "    </tr>\n",
       "  </tbody>\n",
       "</table>\n",
       "</div>"
      ],
      "text/plain": [
       "   Exp  Gap  Salary\n",
       "0  2.0  Yes      40\n",
       "1  2.5  Yes      42\n",
       "2  3.0   No      52\n",
       "3  4.0   No      60\n",
       "4  4.5  Yes      62"
      ]
     },
     "execution_count": 3,
     "metadata": {},
     "output_type": "execute_result"
    }
   ],
   "source": [
    "# Let's say we have a DataFrame\n",
    "\n",
    "import pandas as pd\n",
    "# Here salaries are in thousands\n",
    "data = {\"Exp\": [2, 2.5, 3, 4, 4.5], \"Gap\": [\"Yes\", \"Yes\", \"No\", \"No\", \"Yes\"], \"Salary\": [40, 42, 52, 60, 62]}\n",
    "\n",
    "df = pd.DataFrame(data)\n",
    "df"
   ]
  },
  {
   "cell_type": "markdown",
   "metadata": {},
   "source": [
    "## Steps:\n",
    "\n",
    "### Step 1:\n",
    "* First we will create a base model just, we will calculate average salary, let's say average salary is 51K, then we will find residual salary."
   ]
  },
  {
   "cell_type": "code",
   "execution_count": 4,
   "metadata": {},
   "outputs": [
    {
     "data": {
      "text/html": [
       "<div>\n",
       "<style scoped>\n",
       "    .dataframe tbody tr th:only-of-type {\n",
       "        vertical-align: middle;\n",
       "    }\n",
       "\n",
       "    .dataframe tbody tr th {\n",
       "        vertical-align: top;\n",
       "    }\n",
       "\n",
       "    .dataframe thead th {\n",
       "        text-align: right;\n",
       "    }\n",
       "</style>\n",
       "<table border=\"1\" class=\"dataframe\">\n",
       "  <thead>\n",
       "    <tr style=\"text-align: right;\">\n",
       "      <th></th>\n",
       "      <th>Exp</th>\n",
       "      <th>Gap</th>\n",
       "      <th>Salary</th>\n",
       "      <th>res1</th>\n",
       "    </tr>\n",
       "  </thead>\n",
       "  <tbody>\n",
       "    <tr>\n",
       "      <th>0</th>\n",
       "      <td>2.0</td>\n",
       "      <td>Yes</td>\n",
       "      <td>40</td>\n",
       "      <td>-11</td>\n",
       "    </tr>\n",
       "    <tr>\n",
       "      <th>1</th>\n",
       "      <td>2.5</td>\n",
       "      <td>Yes</td>\n",
       "      <td>42</td>\n",
       "      <td>-9</td>\n",
       "    </tr>\n",
       "    <tr>\n",
       "      <th>2</th>\n",
       "      <td>3.0</td>\n",
       "      <td>No</td>\n",
       "      <td>52</td>\n",
       "      <td>1</td>\n",
       "    </tr>\n",
       "    <tr>\n",
       "      <th>3</th>\n",
       "      <td>4.0</td>\n",
       "      <td>No</td>\n",
       "      <td>60</td>\n",
       "      <td>9</td>\n",
       "    </tr>\n",
       "    <tr>\n",
       "      <th>4</th>\n",
       "      <td>4.5</td>\n",
       "      <td>Yes</td>\n",
       "      <td>62</td>\n",
       "      <td>11</td>\n",
       "    </tr>\n",
       "  </tbody>\n",
       "</table>\n",
       "</div>"
      ],
      "text/plain": [
       "   Exp  Gap  Salary  res1\n",
       "0  2.0  Yes      40   -11\n",
       "1  2.5  Yes      42    -9\n",
       "2  3.0   No      52     1\n",
       "3  4.0   No      60     9\n",
       "4  4.5  Yes      62    11"
      ]
     },
     "execution_count": 4,
     "metadata": {},
     "output_type": "execute_result"
    }
   ],
   "source": [
    "df[\"res1\"] = df[\"Salary\"] - 51\n",
    "df"
   ]
  },
  {
   "attachments": {
    "sim_wt_reg.png": {
     "image/png": "[encoded data removed]"
    }
   },
   "cell_type": "markdown",
   "metadata": {},
   "source": [
    "### Step 2:\n",
    "* Now we will create our first decision tree, we are going to take independent feature as `Exp`, `Gap` and dependent feature as `res1`.\n",
    "* Here we will try to decide first what will be root node. Let' say if we assume `Exp` then we will split it.\n",
    "* Note: We always split as binary tree in XgBoost.\n",
    "* So if suppose for left child we take Exp<=2 and for right child we take Exp>2( 2 is taken as first record Exp value is 2) . So res1 values in first child will be: -11 and values in right child will be -9, 1, 9, 11\n",
    "\n",
    "### Step 3:\n",
    "* Now in third step we will calculate similarity weight:\n",
    "* Let's suppose λ = 1 here.\n",
    "![sim_wt_reg.png](attachment:sim_wt_reg.png)\n",
    "* For left child similiarity weight(or score) = 11^2/ (1+1) => 121/(1+1) = 60.5\n",
    "* Similarly we will calculate similarity weight for right child:\n",
    "    \n",
    "        (-9+1+9+11)^2/ (4+1) = 144/5 = 28.8\n",
    "* Then similarity weight of the root:\n",
    "            \n",
    "        (-11+-9+1+9+11)^2/ (5+1) = 1/6 = 0.16\n",
    "* Now to calculate gain = left_sim_wt+ =right_sim_wt - root_sim_wt\n",
    "                        = 60.5+28.8-0.16 = 89.14\n",
    "* We will store this total gain in some `best_split` variable, and now we will for our second record in `Exp` column i.e 2.5. So we will split Exp column using Exp<=2.5 and Exp>2.5. Again we will calculate all three similarity weight and calculate total gain of this split. If this total gain is greater than previously stored total gain, then this will be stored as best split. Similarly we will do this for all distinct values in Exp column and one with highest total gain will be our selected split, and in variable `best_split` we will store value of total gain of that split.\n",
    "* Now we will go for next categorical feature i.e Gap(we will use this below our current best split). If for node both are `Yes` or `No` then we don't need to split that as it has become leaf node. But for non leaf node, we will again calculate similarity score and total gain.\n",
    "* In gap, we just have Yes and No values, so we can easily split(without checking for values like we did in `Exp`. Even Exp is also categorical feature here, but will more than 2 values that's why we checked for it.\n",
    "* Let's say like this we have created a tree.\n",
    "\n",
    "### Step 4:\n",
    "* For every leaf node(when a record follows a particular tree path) then for the leaf node, output will be average of the res values in the leaf node.\n",
    "* Now we will have record for which we will try to predict output, so we will add both models output i.e. Base model output + Decision Tree model output\n",
    "* Suppose for a record decision tree output is --10 and base learning model output was 51\n",
    "    \n",
    "        => (base_mode_output + α(decision tree output)\n",
    "        => 51 + 0.5* -10\n",
    "        => 46K\n",
    "* For every record in the above DF, it will output some value\n",
    "* Similarly we can also create multiple decision trees. Like for second decision tree. Expa nd Gap will be independent features and this created output will be dependent feature.\n",
    "* So generalized formula for n trees can be:\n",
    "\n",
    "  σ((base_mode_output + α(T1) + α(T2) + .... α(Tn))\n",
    "  \n",
    "*  There is also one more parameter γ(gamma). Let's say if γ is 90 and after a split if we get information gain values as 80, if we do 80-90 and we get negative value, then we can post prune(cut) this part of tree. This γ is hyperparameter."
   ]
  }
 ],
 "metadata": {
  "kernelspec": {
   "display_name": "Python [conda env:mldl] *",
   "language": "python",
   "name": "conda-env-mldl-py"
  },
  "language_info": {
   "codemirror_mode": {
    "name": "ipython",
    "version": 3
   },
   "file_extension": ".py",
   "mimetype": "text/x-python",
   "name": "python",
   "nbconvert_exporter": "python",
   "pygments_lexer": "ipython3",
   "version": "3.6.9"
  }
 },
 "nbformat": 4,
 "nbformat_minor": 2
}
