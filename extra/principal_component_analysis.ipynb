{
 "cells": [
  {
   "cell_type": "markdown",
   "metadata": {},
   "source": [
    "## Introduction:\n",
    "\n",
    "PCA is a technique for reducing the dimensionality of such datasets, increasing interpretability but at the same time minimizing information loss.\n",
    "\n",
    "In other words,\n",
    "PCA is features reduction technique that enables you to identify correlations and patterns in a data set so that it can be transformed into a data set of significantly lower dimension without loss of any important information.\n",
    "\n",
    "For example, let's say there are 100 features, then sometimes, some features are not important or are correlated with any other feature, then we can remove them. For this one of the technique is PCA.\n",
    "\n",
    "So, for 100 features PCA creates 100 principal components.\n",
    "\n",
    "## Need for PCA: \n",
    "   * High dimension data is extremely complex to process due to inconsistencies in the features which increase the computation time and make data processing and EDA more convoluted.\n",
    "   * PCA is implement in majority of machine learning algorithms, as ML has a limitation it can't process or handle data of high dimension. So that's why PCA comes in spotlight. High dimensions data are used in image processing, NLP, etc.\n",
    "   \n",
    "\n",
    "## Steps in PCA:\n",
    "  * Standardization of data\n",
    "  * Computing covariance matrix\n",
    "  * Calculating eigenvectors and eigenvalues\n",
    "  * Computing the principal components\n",
    "  * Reducing the dimensions of data"
   ]
  },
  {
   "cell_type": "markdown",
   "metadata": {},
   "source": [
    "###  Standardization of data :\n",
    "It is scaling of data in such a way that all variables and their values lie within same range. If we don't perform standardization, it may result into biased output."
   ]
  },
  {
   "cell_type": "code",
   "execution_count": 1,
   "metadata": {},
   "outputs": [
    {
     "data": {
      "text/html": [
       "<div>\n",
       "<style scoped>\n",
       "    .dataframe tbody tr th:only-of-type {\n",
       "        vertical-align: middle;\n",
       "    }\n",
       "\n",
       "    .dataframe tbody tr th {\n",
       "        vertical-align: top;\n",
       "    }\n",
       "\n",
       "    .dataframe thead th {\n",
       "        text-align: right;\n",
       "    }\n",
       "</style>\n",
       "<table border=\"1\" class=\"dataframe\">\n",
       "  <thead>\n",
       "    <tr style=\"text-align: right;\">\n",
       "      <th></th>\n",
       "      <th>Count</th>\n",
       "      <th>Value</th>\n",
       "    </tr>\n",
       "  </thead>\n",
       "  <tbody>\n",
       "    <tr>\n",
       "      <th>0</th>\n",
       "      <td>1</td>\n",
       "      <td>9998</td>\n",
       "    </tr>\n",
       "    <tr>\n",
       "      <th>1</th>\n",
       "      <td>5</td>\n",
       "      <td>9518</td>\n",
       "    </tr>\n",
       "    <tr>\n",
       "      <th>2</th>\n",
       "      <td>6</td>\n",
       "      <td>8995</td>\n",
       "    </tr>\n",
       "    <tr>\n",
       "      <th>3</th>\n",
       "      <td>3</td>\n",
       "      <td>7890</td>\n",
       "    </tr>\n",
       "  </tbody>\n",
       "</table>\n",
       "</div>"
      ],
      "text/plain": [
       "   Count  Value\n",
       "0      1   9998\n",
       "1      5   9518\n",
       "2      6   8995\n",
       "3      3   7890"
      ]
     },
     "execution_count": 1,
     "metadata": {},
     "output_type": "execute_result"
    }
   ],
   "source": [
    "import pandas as pd\n",
    "data = {'Count':[1, 5, 6, 3], 'Value':[9998, 9518, 8995, 7890]} \n",
    "df = pd.DataFrame(data) \n",
    "df.head()"
   ]
  },
  {
   "attachments": {
    "standardization.png": {
     "image/png": "[encoded data removed]"
    }
   },
   "cell_type": "markdown",
   "metadata": {},
   "source": [
    "In above table you can see that feature *Value* has bigger values compared to feature *Count*, hence it will have more impact on the output. Hence we need to scale it to make data in comparable range. Hence we narrow the *Value* feature to an acceptable range here. We can use formula:\n",
    "\n",
    "![standardization.png](attachment:standardization.png)\n"
   ]
  },
  {
   "cell_type": "markdown",
   "metadata": {},
   "source": [
    "### Computing the covariance:\n",
    "Now we have scaled the data, we want to check the relation between the data.\n",
    "\n",
    "Covariance matrix expresses the relation between the different variables in the data set. It is essential to identify heavily dependent variables because they contain biased and redundant information which reduces overall performance of the model.\n",
    "The covariance value denotes how co-dependent two variables are.\n",
    "    - Negative covariance: indirectly proportional\n",
    "    - Positive covariance: directly proportional\n",
    "\n",
    "Let's say if we have 5 variables then this matrix will be 5x5, for 2 variables, it will be 2x2, etc.\n",
    "For 2x2, matrix will be:\n",
    "\n",
    "*(Here cov(a,b) is covariance of variable a wrt b,\n",
    "also covariance is commutative hence cov(a,b) = cov(b,a) )* "
   ]
  },
  {
   "cell_type": "code",
   "execution_count": 2,
   "metadata": {},
   "outputs": [
    {
     "name": "stdout",
     "output_type": "stream",
     "text": [
      "cov(a,a)\tcov(a,b)\n",
      "cov(b,a)\tcov(b,b)\n"
     ]
    }
   ],
   "source": [
    "# Representation in matrix form\n",
    "cov_matrix = [[\"cov(a,a)\", \"cov(a,b)\"], [\"cov(b,a)\", \"cov(b,b)\"]]\n",
    "print('\\n'.join(['\\t'.join([str(cell) for cell in row]) for row in cov_matrix]))\n",
    "# We can use np.cov(data) to calculate covariance"
   ]
  },
  {
   "cell_type": "markdown",
   "metadata": {},
   "source": [
    "### Calculating eigenvectors and eigenvalues:\n",
    "\n",
    "- Eigenvectors are those vectors, when a linear transformation is peformed on them then their direction does not change. Eigenvalues denotes scalar values of respective eigenvectors.\n",
    "- These should be calculated from covariance matrix\n",
    "- We need eigenvectors and eigenvalues to determine the principal components in our dataset.\n",
    "\n",
    "\n",
    "- **Principal components** are new set of variables that are obtained from initial set of variables. They are highly significant and independent of each others. They compress and possess most of the useful information that was scattered among initial variables.\n",
    "- If dataset has `x` dimension then we have to form `x` principal components.\n",
    "- To create first principal component(PC1), we have to form it in a way that it stores maximum possible information.\n",
    "- For second principal component(PC2), it will store remaining maximum information of data. And this goes on till PCx.\n",
    "- If dataset has `x` dimension then we have to calculate `x` eigenvectors and their respective eigenvalues.\n",
    "- Using covariance matrix, eigenvectors determine where is maximum variance in dataset(as variance denotes more info).\n",
    "\n",
    "### Computing the principal components:\n",
    "- When we have eigenvectors and eigenvalues, we have to sort it in descending order, where eigenvector with max eigenvalue is most significant, and will form first principal component(PC1).\n",
    "- Then like this we can get second most significant which will be our second principal component(PC2).\n",
    "\n",
    "### Reducing the dimensions of data:\n",
    "- Here we re-arrange the original data with respect to the final principal components which represents the maximum and the most significant info of the dataset.\n"
   ]
  },
  {
   "cell_type": "code",
   "execution_count": 3,
   "metadata": {},
   "outputs": [
    {
     "name": "stdout",
     "output_type": "stream",
     "text": [
      "For example:\n",
      "\n"
     ]
    },
    {
     "data": {
      "text/html": [
       "<div>\n",
       "<style scoped>\n",
       "    .dataframe tbody tr th:only-of-type {\n",
       "        vertical-align: middle;\n",
       "    }\n",
       "\n",
       "    .dataframe tbody tr th {\n",
       "        vertical-align: top;\n",
       "    }\n",
       "\n",
       "    .dataframe thead th {\n",
       "        text-align: right;\n",
       "    }\n",
       "</style>\n",
       "<table border=\"1\" class=\"dataframe\">\n",
       "  <thead>\n",
       "    <tr style=\"text-align: right;\">\n",
       "      <th></th>\n",
       "      <th>movie_id</th>\n",
       "      <th>title</th>\n",
       "      <th>genres</th>\n",
       "      <th>user_id</th>\n",
       "      <th>rating</th>\n",
       "      <th>date</th>\n",
       "    </tr>\n",
       "  </thead>\n",
       "  <tbody>\n",
       "    <tr>\n",
       "      <th>0</th>\n",
       "      <td>1</td>\n",
       "      <td>X</td>\n",
       "      <td>Action</td>\n",
       "      <td>1</td>\n",
       "      <td>5</td>\n",
       "      <td>16-01-2009</td>\n",
       "    </tr>\n",
       "    <tr>\n",
       "      <th>1</th>\n",
       "      <td>5</td>\n",
       "      <td>Y</td>\n",
       "      <td>Rom-Com</td>\n",
       "      <td>1</td>\n",
       "      <td>4</td>\n",
       "      <td>04-04-2005</td>\n",
       "    </tr>\n",
       "    <tr>\n",
       "      <th>2</th>\n",
       "      <td>6</td>\n",
       "      <td>Z</td>\n",
       "      <td>Thriller</td>\n",
       "      <td>1</td>\n",
       "      <td>3</td>\n",
       "      <td>31-12-2011</td>\n",
       "    </tr>\n",
       "  </tbody>\n",
       "</table>\n",
       "</div>"
      ],
      "text/plain": [
       "   movie_id title    genres  user_id  rating        date\n",
       "0         1     X    Action        1       5  16-01-2009\n",
       "1         5     Y   Rom-Com        1       4  04-04-2005\n",
       "2         6     Z  Thriller        1       3  31-12-2011"
      ]
     },
     "execution_count": 3,
     "metadata": {},
     "output_type": "execute_result"
    }
   ],
   "source": [
    "print(\"For example:\\n\")\n",
    "orig_data = {'movie_id':[1, 5, 6], 'title':[\"X\", \"Y\", \"Z\"], 'genres': [\"Action\", \"Rom-Com\", \"Thriller\"], 'user_id': [1, 1, 1], 'rating': [5, 4, 3], 'date': ['16-01-2009', '04-04-2005', '31-12-2011']} \n",
    "old_df = pd.DataFrame(orig_data)\n",
    "old_df"
   ]
  },
  {
   "cell_type": "code",
   "execution_count": 4,
   "metadata": {},
   "outputs": [
    {
     "name": "stdout",
     "output_type": "stream",
     "text": [
      "Can be converted to:\n"
     ]
    },
    {
     "data": {
      "text/html": [
       "<div>\n",
       "<style scoped>\n",
       "    .dataframe tbody tr th:only-of-type {\n",
       "        vertical-align: middle;\n",
       "    }\n",
       "\n",
       "    .dataframe tbody tr th {\n",
       "        vertical-align: top;\n",
       "    }\n",
       "\n",
       "    .dataframe thead th {\n",
       "        text-align: right;\n",
       "    }\n",
       "</style>\n",
       "<table border=\"1\" class=\"dataframe\">\n",
       "  <thead>\n",
       "    <tr style=\"text-align: right;\">\n",
       "      <th></th>\n",
       "      <th>movie_id</th>\n",
       "      <th>user_id</th>\n",
       "      <th>rating</th>\n",
       "      <th>date</th>\n",
       "    </tr>\n",
       "  </thead>\n",
       "  <tbody>\n",
       "    <tr>\n",
       "      <th>0</th>\n",
       "      <td>1</td>\n",
       "      <td>1</td>\n",
       "      <td>5</td>\n",
       "      <td>16-01-2009</td>\n",
       "    </tr>\n",
       "    <tr>\n",
       "      <th>1</th>\n",
       "      <td>5</td>\n",
       "      <td>1</td>\n",
       "      <td>4</td>\n",
       "      <td>04-04-2005</td>\n",
       "    </tr>\n",
       "    <tr>\n",
       "      <th>2</th>\n",
       "      <td>6</td>\n",
       "      <td>1</td>\n",
       "      <td>3</td>\n",
       "      <td>31-12-2011</td>\n",
       "    </tr>\n",
       "  </tbody>\n",
       "</table>\n",
       "</div>"
      ],
      "text/plain": [
       "   movie_id  user_id  rating        date\n",
       "0         1        1       5  16-01-2009\n",
       "1         5        1       4  04-04-2005\n",
       "2         6        1       3  31-12-2011"
      ]
     },
     "execution_count": 4,
     "metadata": {},
     "output_type": "execute_result"
    }
   ],
   "source": [
    "print(\"Can be converted to:\")\n",
    "new_data = {'movie_id':[1, 5, 6], 'user_id': [1, 1, 1], 'rating': [5, 4, 3], 'date': ['16-01-2009', '04-04-2005', '31-12-2011']} \n",
    "new_df = pd.DataFrame(new_data)\n",
    "new_df"
   ]
  },
  {
   "cell_type": "code",
   "execution_count": 5,
   "metadata": {},
   "outputs": [],
   "source": [
    "############### Code: ###################\n",
    "\n",
    "# Reading libraries\n",
    "import pandas as pd\n",
    "import numpy as np\n",
    "from sklearn.preprocessing import StandardScaler\n",
    "from sklearn.decomposition import PCA\n",
    "import matplotlib.pyplot as plt\n",
    "from matplotlib.cm import register_cmap\n",
    "from scipy import stats\n",
    "import seaborn"
   ]
  },
  {
   "cell_type": "code",
   "execution_count": 6,
   "metadata": {},
   "outputs": [
    {
     "name": "stdout",
     "output_type": "stream",
     "text": [
      "Movies DF: \n",
      "   movieId                               title  \\\n",
      "0        1                    Toy Story (1995)   \n",
      "1        2                      Jumanji (1995)   \n",
      "2        3             Grumpier Old Men (1995)   \n",
      "3        4            Waiting to Exhale (1995)   \n",
      "4        5  Father of the Bride Part II (1995)   \n",
      "\n",
      "                                        genres  \n",
      "0  Adventure|Animation|Children|Comedy|Fantasy  \n",
      "1                   Adventure|Children|Fantasy  \n",
      "2                               Comedy|Romance  \n",
      "3                         Comedy|Drama|Romance  \n",
      "4                                       Comedy  \n",
      "Ratings DF: \n",
      "   userId  movieId  rating  timestamp\n",
      "0       1        1     4.0  964982703\n",
      "1       1        3     4.0  964981247\n",
      "2       1        6     4.0  964982224\n",
      "3       1       47     5.0  964983815\n",
      "4       1       50     5.0  964982931\n"
     ]
    }
   ],
   "source": [
    "# Read dataset\n",
    "movies = pd.read_csv(\"data/movies.csv\")\n",
    "print(\"Movies DF: \")\n",
    "print(movies.head())\n",
    "ratings = pd.read_csv(\"data/ratings.csv\")\n",
    "print(\"Ratings DF: \")\n",
    "print(ratings.head())"
   ]
  },
  {
   "cell_type": "code",
   "execution_count": 7,
   "metadata": {},
   "outputs": [
    {
     "data": {
      "text/html": [
       "<div>\n",
       "<style scoped>\n",
       "    .dataframe tbody tr th:only-of-type {\n",
       "        vertical-align: middle;\n",
       "    }\n",
       "\n",
       "    .dataframe tbody tr th {\n",
       "        vertical-align: top;\n",
       "    }\n",
       "\n",
       "    .dataframe thead th {\n",
       "        text-align: right;\n",
       "    }\n",
       "</style>\n",
       "<table border=\"1\" class=\"dataframe\">\n",
       "  <thead>\n",
       "    <tr style=\"text-align: right;\">\n",
       "      <th></th>\n",
       "      <th>userId</th>\n",
       "      <th>movieId</th>\n",
       "      <th>rating</th>\n",
       "    </tr>\n",
       "  </thead>\n",
       "  <tbody>\n",
       "    <tr>\n",
       "      <th>0</th>\n",
       "      <td>1</td>\n",
       "      <td>1</td>\n",
       "      <td>4.0</td>\n",
       "    </tr>\n",
       "    <tr>\n",
       "      <th>1</th>\n",
       "      <td>1</td>\n",
       "      <td>3</td>\n",
       "      <td>4.0</td>\n",
       "    </tr>\n",
       "    <tr>\n",
       "      <th>2</th>\n",
       "      <td>1</td>\n",
       "      <td>6</td>\n",
       "      <td>4.0</td>\n",
       "    </tr>\n",
       "    <tr>\n",
       "      <th>3</th>\n",
       "      <td>1</td>\n",
       "      <td>47</td>\n",
       "      <td>5.0</td>\n",
       "    </tr>\n",
       "    <tr>\n",
       "      <th>4</th>\n",
       "      <td>1</td>\n",
       "      <td>50</td>\n",
       "      <td>5.0</td>\n",
       "    </tr>\n",
       "    <tr>\n",
       "      <th>...</th>\n",
       "      <td>...</td>\n",
       "      <td>...</td>\n",
       "      <td>...</td>\n",
       "    </tr>\n",
       "    <tr>\n",
       "      <th>100831</th>\n",
       "      <td>610</td>\n",
       "      <td>166534</td>\n",
       "      <td>4.0</td>\n",
       "    </tr>\n",
       "    <tr>\n",
       "      <th>100832</th>\n",
       "      <td>610</td>\n",
       "      <td>168248</td>\n",
       "      <td>5.0</td>\n",
       "    </tr>\n",
       "    <tr>\n",
       "      <th>100833</th>\n",
       "      <td>610</td>\n",
       "      <td>168250</td>\n",
       "      <td>5.0</td>\n",
       "    </tr>\n",
       "    <tr>\n",
       "      <th>100834</th>\n",
       "      <td>610</td>\n",
       "      <td>168252</td>\n",
       "      <td>5.0</td>\n",
       "    </tr>\n",
       "    <tr>\n",
       "      <th>100835</th>\n",
       "      <td>610</td>\n",
       "      <td>170875</td>\n",
       "      <td>3.0</td>\n",
       "    </tr>\n",
       "  </tbody>\n",
       "</table>\n",
       "<p>100836 rows × 3 columns</p>\n",
       "</div>"
      ],
      "text/plain": [
       "        userId  movieId  rating\n",
       "0            1        1     4.0\n",
       "1            1        3     4.0\n",
       "2            1        6     4.0\n",
       "3            1       47     5.0\n",
       "4            1       50     5.0\n",
       "...        ...      ...     ...\n",
       "100831     610   166534     4.0\n",
       "100832     610   168248     5.0\n",
       "100833     610   168250     5.0\n",
       "100834     610   168252     5.0\n",
       "100835     610   170875     3.0\n",
       "\n",
       "[100836 rows x 3 columns]"
      ]
     },
     "execution_count": 7,
     "metadata": {},
     "output_type": "execute_result"
    }
   ],
   "source": [
    "# Remove timestamp column\n",
    "ratings.drop([\"timestamp\"], axis=1, inplace=True)  # axis: drop from index (0 or ‘index’) or columns (1 or ‘columns’).\n",
    "ratings"
   ]
  },
  {
   "cell_type": "code",
   "execution_count": 8,
   "metadata": {},
   "outputs": [],
   "source": [
    "# Process_data\n",
    "def replace_name(x):\n",
    "    return movies[movies[\"movieId\"] == x].title.values[0]\n",
    "\n",
    "ratings.movieId = ratings.movieId.map(replace_name)\n",
    "M = ratings.pivot_table(index=[\"userId\"], columns=[\"movieId\"], values=[\"rating\"])\n",
    "m = M.shape\n",
    "df1 = M.replace(np.nan, 0, regex=True)\n",
    "# Peform standarization, but in our dataset it is not necessary\n",
    "x_std = StandardScaler().fit_transform(df1)\n"
   ]
  },
  {
   "cell_type": "code",
   "execution_count": 9,
   "metadata": {},
   "outputs": [
    {
     "name": "stdout",
     "output_type": "stream",
     "text": [
      "[-8.73618118e-18 -8.73618118e-18 -2.91206039e-17 ...  8.73618118e-18\n",
      " -4.36809059e-17 -8.73618118e-18]\n",
      "\n",
      " Covariance matrix: \n",
      "[[ 1.00164204 -0.00164473 -0.00232791 ...  0.32582147 -0.00819887\n",
      "  -0.00164473]\n",
      " [-0.00164473  1.00164204  0.70768614 ... -0.00360024 -0.00819887\n",
      "  -0.00164473]\n",
      " [-0.00232791  0.70768614  1.00164204 ... -0.00509569 -0.01160448\n",
      "  -0.00232791]\n",
      " ...\n",
      " [ 0.32582147 -0.00360024 -0.00509569 ...  1.00164204 -0.01794692\n",
      "  -0.00360024]\n",
      " [-0.00819887 -0.00819887 -0.01160448 ... -0.01794692  1.00164204\n",
      "  -0.00819887]\n",
      " [-0.00164473 -0.00164473 -0.00232791 ... -0.00360024 -0.00819887\n",
      "   1.00164204]]\n"
     ]
    }
   ],
   "source": [
    "# Now compute covariance matrix:\n",
    "mean_vec = np.mean(x_std, axis=0)\n",
    "print(mean_vec)\n",
    "cov_mat = (x_std - mean_vec).T.dot((x_std - mean_vec)) / (x_std.shape[0]-1)\n",
    "print(\"\\n Covariance matrix: \")\n",
    "print(cov_mat)"
   ]
  },
  {
   "cell_type": "code",
   "execution_count": null,
   "metadata": {},
   "outputs": [],
   "source": [
    "# Perform eigendecomposition on covariance matrix\n",
    "cov_mat = np.cov(x_std.T)\n",
    "eigen_values, eigen_vectors = np.linalg.eig(cov_mat)\n",
    "print(\"Eigenvector: {}\\n\".format(eigen_vectors))\n",
    "print(\"Eigenvalues: {}\".format(eigen_values))"
   ]
  },
  {
   "cell_type": "code",
   "execution_count": null,
   "metadata": {},
   "outputs": [],
   "source": [
    "# Now sort eigen values in dataset to get most significant vectors\n",
    "eig_pairs = [(np.abs(eigen_values[i]), eigen_vectors[:, i]) for i in range(len(eigen_values))]\n",
    "for i in eig_pairs:\n",
    "    print(i[0])"
   ]
  },
  {
   "cell_type": "code",
   "execution_count": 45,
   "metadata": {},
   "outputs": [
    {
     "name": "stdout",
     "output_type": "stream",
     "text": [
      "[0.13502694 0.04383615]\n"
     ]
    }
   ],
   "source": [
    "# Just for analysis purpose, consider 2 components\n",
    "pca = PCA(n_components=2)\n",
    "pca.fit_transform(df1)\n",
    "print(pca.explained_variance_ratio_)"
   ]
  },
  {
   "cell_type": "code",
   "execution_count": 47,
   "metadata": {},
   "outputs": [
    {
     "data": {
      "text/plain": [
       "Text(0, 0.5, 'cumulative explained variance')"
      ]
     },
     "execution_count": 47,
     "metadata": {},
     "output_type": "execute_result"
    },
    {
     "data": {
      "image/png": "[encoded data removed]",
      "text/plain": [
       "<Figure size 432x288 with 1 Axes>"
      ]
     },
     "metadata": {
      "needs_background": "light"
     },
     "output_type": "display_data"
    }
   ],
   "source": [
    "# For displaying overall:\n",
    "pca = PCA().fit(x_std)\n",
    "plt.plot(np.cumsum(pca.explained_variance_ratio_))\n",
    "plt.xlabel(\"no. of components\")\n",
    "plt.ylabel(\"cumulative explained variance\")\n",
    "# Here we reduced from 9000 to 500"
   ]
  }
 ],
 "metadata": {
  "kernelspec": {
   "display_name": "Python [conda env:mldlenv] *",
   "language": "python",
   "name": "conda-env-mldlenv-py"
  },
  "language_info": {
   "codemirror_mode": {
    "name": "ipython",
    "version": 3
   },
   "file_extension": ".py",
   "mimetype": "text/x-python",
   "name": "python",
   "nbconvert_exporter": "python",
   "pygments_lexer": "ipython3",
   "version": "3.9.17"
  }
 },
 "nbformat": 4,
 "nbformat_minor": 2
}
