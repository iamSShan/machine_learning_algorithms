{
 "cells": [
  {
   "cell_type": "markdown",
   "metadata": {},
   "source": [
    "## Introduction:\n",
    "* Whether we wish to predict the trend in financial markets or electricity consumption, time is an important factor that must now be considered in our models. For example, it would be interesting to forecast at what hour during the day is there going to be a peak consumption in electricity, such as to adjust the price or the production of electricity. We can use time series analysis.\n",
    "* Time series analysis is a specific way of analyzing a sequence of data points collected over an interval of time. In time series analysis, analysts record data points at consistent intervals over a set period of time rather than just recording the data points intermittently or randomly.\n",
    "* In a time series, time is often the independent variable and the goal is usually to make a forecast for the future.\n",
    "* However, there are other aspects that come into play when dealing with time series.\n",
    " \n",
    "    * Is it stationary?(A time series is said to be stationary if its statistical properties do not change over time. In other words, it has constant mean and variance, and covariance is independent of time.)\n",
    "    * Is there a seasonality?\n",
    "    * Is the target variable autocorrelated?(Autocorrelation is the similarity between observations as a function of the time lag between them.)\n",
    "    \n",
    "\n",
    "Modelling time series\n",
    "\n",
    "* There are many ways to model a time series in order to make predictions. Here, I will present:\n",
    "    * Moving average\n",
    "    * Exponential smoothing\n",
    "    * ARIMA"
   ]
  },
  {
   "cell_type": "code",
   "execution_count": null,
   "metadata": {},
   "outputs": [],
   "source": []
  }
 ],
 "metadata": {
  "kernelspec": {
   "display_name": "Python [conda env:mldl] *",
   "language": "python",
   "name": "conda-env-mldl-py"
  },
  "language_info": {
   "codemirror_mode": {
    "name": "ipython",
    "version": 3
   },
   "file_extension": ".py",
   "mimetype": "text/x-python",
   "name": "python",
   "nbconvert_exporter": "python",
   "pygments_lexer": "ipython3",
   "version": "3.6.9"
  }
 },
 "nbformat": 4,
 "nbformat_minor": 2
}
