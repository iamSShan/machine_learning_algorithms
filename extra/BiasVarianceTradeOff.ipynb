{
 "cells": [
  {
   "cell_type": "markdown",
   "id": "8db416a1",
   "metadata": {},
   "source": [
    "## Introduction:\n",
    "* **Bias** in machine learning refers to an error introduced into the model due to oversimplified assumptions made by the algorithm. This can happen during the model's development process and can cause the model to have systematic and unfair prejudices, or to make incorrect assumptions about the data.\n",
    "\n",
    "* **Variance** in machine learning is about how much a model's predictions change if you train it on different parts of the same data. Imagine you're trying to learn how to predict the weather by looking at past weather data. If your method (or model) is very sensitive to the exact days of data you look at, your predictions might change a lot if you pick different days. This sensitivity is what we call \"variance.\"\n",
    "\n",
    "* When model performs well on training data, then we say it has low bias else we say high bias.\n",
    "* When a model performs well on testing data, then say it has low variance else it has high variance.\n",
    "\n",
    "* **Overfitting**: When model overfits(i.e model works greatly on training data but not on testing data) there we have low bias and high variance.\n",
    "* **Underfitting**: When model underfits(i.e model works greatly on training data but not on testing data) there we have high bias and low variance.\n",
    "\n",
    "\n",
    "* So we need a model which has low bias and low variance, so we don't select a model who is very good on specifically training data and neither we select who is very bad on training and testing data. Instead we select a middle way which was not extremely good on training and testing, but it wasn't bad too. Hence this tradeoff is called Bias-Variance tradeoff.\n",
    "\n",
    "\n",
    "* **How to find trade off**:\n",
    "    * Use regularization\n",
    "    * Use Bagging or Boosting models\n",
    "    * Sometimes dimensionality reduction also helps"
   ]
  }
 ],
 "metadata": {
  "kernelspec": {
   "display_name": "Python [conda env:mldlenv] *",
   "language": "python",
   "name": "conda-env-mldlenv-py"
  },
  "language_info": {
   "codemirror_mode": {
    "name": "ipython",
    "version": 3
   },
   "file_extension": ".py",
   "mimetype": "text/x-python",
   "name": "python",
   "nbconvert_exporter": "python",
   "pygments_lexer": "ipython3",
   "version": "3.9.17"
  }
 },
 "nbformat": 4,
 "nbformat_minor": 5
}
