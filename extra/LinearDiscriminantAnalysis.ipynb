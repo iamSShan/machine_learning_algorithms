{
 "cells": [
  {
   "attachments": {
    "lda1.png": {
     "image/png": "[encoded data removed]"
    }
   },
   "cell_type": "markdown",
   "id": "41f977d8",
   "metadata": {},
   "source": [
    "## Discriminant Analysis:\n",
    "Discriminant Analysis is a statistical technique used to distinguish and predict categories or groups based on data. It works by finding the characteristics that best separate different groups from each other. Primarily, there are two types of Discriminant Analysis: Linear Discriminant Analysis (LDA) and Quadratic Discriminant Analysis (QDA).\n",
    "\n",
    "Imagine we're trying to categorize fruits into types such as apples and oranges based on characteristics like weight and color. Discriminant Analysis helps us to find the best way to use these characteristics (like how heavy or what color the fruit is) to make a clear distinction between apples and oranges. It basically figures out a \"rule\" or \"line\" that can be drawn through the data to separate the different types as clearly as possible.\n",
    "\n",
    "\n",
    "## Linear Discriminant Analysis (LDA):\n",
    "* Whenever there is a requirement to separate two or more classes having multiple features efficiently, the Linear Discriminant Analysis model is considered the most common technique to solve such classification problems. \n",
    "\n",
    "* For e.g., if we have single feature with two classes. Let's say using cibil score, if it is good or bad. So here using a single value we could separate both, like above 600 it is good. \n",
    "* Let's assume we have to classify two different classes having two sets of data points in a 2-dimensional plane as shown below image:\n",
    "\n",
    "![lda1.png](attachment:lda1.png)\n",
    "\n",
    "However, it is impossible to draw a straight line in a 2-d plane that can separate these data points efficiently but using linear Discriminant analysis; we can dimensionally reduce the 2-D plane into the 1-D plane. Using this technique, we can also maximize the separability between multiple classes.\n",
    "* What if there were more features, a simple linear boundary is not sufficient here, here also we use LDA.\n",
    "\n",
    "### How Linear Discriminant Analysis (LDA) works?\n",
    "\n",
    "Linear Discriminant analysis is used as a dimensionality reduction technique in machine learning, using which we can easily transform a 2-D and 3-D graph into a 1-dimensional plane.\n",
    "\n",
    "Let's consider an example where we have two classes in a 2-D plane having an X-Y axis, and we need to classify them efficiently. As we have already seen in the above example that LDA enables us to draw a straight line that can completely separate the two classes of the data points. Here, LDA uses an X-Y axis to create a new axis by separating them using a straight line and projecting data onto a new axis.\n",
    "\n",
    "To create a new axis, Linear Discriminant Analysis uses the following criteria:\n",
    "* It maximizes the distance between means of two classes.\n",
    "* It minimizes the variance within the individual class.\n"
   ]
  },
  {
   "cell_type": "markdown",
   "id": "4b288f56",
   "metadata": {},
   "source": [
    "\n",
    "\n",
    "\n",
    "* Linear Discriminant analysis is one of the most popular dimensionality reduction techniques used for supervised classification problems in machine learning.\n",
    "\n",
    "\n",
    "* LDA is particularly useful when the predictive features are continuous and normally distributed. It assumes that different classes generate data based on different Gaussian distributions. LDA works by estimating the mean and variance for each class to predict a class-specific covariance matrix. Here's how it works:\n",
    "  * Assumption of Normality: LDA assumes that the probability density of each class is normally distributed.\n",
    "  * Equal Covariance: Assumes that all classes have the same covariance matrix.\n",
    "  * Maximizing Between-Class Variance: LDA seeks to maximize the ratio of the variance between classes to the variance within each class. This is done by finding a linear combination of features that characterizes or separates two or more classes.\n",
    "\n",
    "Example:\n",
    "\n",
    "Suppose we want to predict whether individuals will default on a loan (Yes or No) based on their income and credit score. LDA would model the distribution of these features for each class (default and non-default) and determine a linear boundary that best separates the classes based on the given features.\n",
    "\n",
    "\n",
    "\n",
    "Similarity between LDA and PCA:\n",
    "* Both are dimension reduction techniques\n",
    "* Both use eigen vector and eigen value concept\n",
    "\n",
    "Difference between LDA and PCA:\n",
    "* Purpose of PCA is capture maximum variance of the data and in LDA is to provide separation boundary between data points.\n",
    "\n",
    "\n",
    "## Quadratic Discriminant Analysis (QDA):\n",
    "\n",
    "QDA provides an alternative approach when the assumption that the different classes share the same covariance matrix is not valid. Unlike LDA, QDA assumes that each class has its own covariance matrix. This makes QDA more flexible by allowing the decision boundary to be a quadratic function and not necessarily linear.\n",
    "Example:\n",
    "\n",
    "Consider the same loan default prediction scenario as above. If the variance of income and credit score is different for defaulters versus non-defaulters, QDA would be more appropriate than LDA. QDA would use quadratic surfaces to separate classes, potentially capturing more complex relationships in the data.\n",
    "Application in Machine Learning\n",
    "\n",
    "Discriminant Analysis is often used for dimensionality reduction before classification. For example, in face recognition tasks, LDA can be used to reduce the number of features before employing a classifier to differentiate between different individuals. It's particularly useful in scenarios where simplicity and interpretability are more critical than capturing complex relationships in the data.\n",
    "\n",
    "Discriminant Analysis can be very effective in cases where the assumptions hold, but like any statistical technique, its effectiveness can diminish if the underlying assumptions are violated.\n"
   ]
  }
 ],
 "metadata": {
  "kernelspec": {
   "display_name": "Python [conda env:mldlenv] *",
   "language": "python",
   "name": "conda-env-mldlenv-py"
  },
  "language_info": {
   "codemirror_mode": {
    "name": "ipython",
    "version": 3
   },
   "file_extension": ".py",
   "mimetype": "text/x-python",
   "name": "python",
   "nbconvert_exporter": "python",
   "pygments_lexer": "ipython3",
   "version": "3.9.17"
  }
 },
 "nbformat": 4,
 "nbformat_minor": 5
}
