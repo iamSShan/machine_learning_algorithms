{
 "cells": [
  {
   "cell_type": "markdown",
   "id": "44f6ba33",
   "metadata": {},
   "source": [
    "\n",
    "1. **Lists** - Dynamic arrays that can contain elements of different types.\n",
    "   - `append(x)`: Adds an item `x` to the end.\n",
    "   - `extend(iterable)`: Extends the list by appending all the items from the iterable.\n",
    "   - `insert(i, x)`: Inserts an item at a given position.\n",
    "   - `remove(x)`: Removes the first item from the list whose value is `x`.\n",
    "   - `pop([i])`: Removes the item at the given position in the list, and returns it.\n",
    "   - `clear()`: Removes all items from the list.\n",
    "   - `index(x[, start[, end]])`: Returns zero-based index in the list of the first item whose value is `x`.\n",
    "   - `count(x)`: Returns the number of times `x` appears in the list.\n",
    "   - `sort()`: Sorts the items of the list in place.\n",
    "   - `reverse()`: Reverses the elements of the list in place.\n",
    "\n",
    "2. **Tuples** - Immutable sequences typically used to store heterogeneous data.\n",
    "   - `count(x)`: Returns the number of times `x` appears in the tuple.\n",
    "   - `index(x)`: Returns the index of the first item that has a value of `x`.\n",
    "\n",
    "3. **Dictionaries** - Key-value pairs that are unordered.\n",
    "   - `keys()`: Returns a view of the dictionary's keys.\n",
    "   - `values()`: Returns a view of the dictionary's values.\n",
    "   - `items()`: Returns a view of the dictionary's key-value pairs.\n",
    "   - `get(key[, default])`: Returns the value for `key` if key is in the dictionary, else `default`.\n",
    "   - `setdefault(key[, default])`: Returns the value of the key. If not in the dictionary, inserts key with a value of default.\n",
    "   - `pop(key[, default])`: Removes the specified key and returns the corresponding value.\n",
    "   - `popitem()`: Removes and returns a `(key, value)` pair as a 2-tuple.\n",
    "   - `update([other])`: Updates the dictionary with the key/value pairs from other, overwriting existing keys.\n",
    "\n",
    "4. **Sets** - Unordered collections of unique elements.\n",
    "   - `add(elem)`: Adds an element to a set.\n",
    "   - `remove(elem)`: Removes an element from the set; raises KeyError if not present.\n",
    "   - `discard(elem)`: Removes an element from the set if it is a member.\n",
    "   - `pop()`: Removes and returns an arbitrary set element.\n",
    "   - `clear()`: Removes all elements from the set.\n",
    "   - `union(s)`: Returns a new set with elements from the set and all others.\n",
    "   - `intersection(s)`: Returns a new set with elements common to the set and all others.\n",
    "   - `difference(s)`: Returns a new set with elements in the set that are not in the others.\n",
    "\n"
   ]
  },
  {
   "cell_type": "markdown",
   "id": "c4a9b778",
   "metadata": {},
   "source": [
    "## List:"
   ]
  },
  {
   "cell_type": "code",
   "execution_count": 59,
   "id": "b6be8c6f",
   "metadata": {},
   "outputs": [
    {
     "name": "stdout",
     "output_type": "stream",
     "text": [
      "2\n",
      "3\n",
      "[2, 3]\n"
     ]
    }
   ],
   "source": [
    "# Accessing list:\n",
    "l = [1, 2, 3]\n",
    "\n",
    "print(l[1])\n",
    "print(l[-1])\n",
    "print(l[1:])"
   ]
  },
  {
   "cell_type": "code",
   "execution_count": 43,
   "id": "b5051702",
   "metadata": {},
   "outputs": [
    {
     "data": {
      "text/plain": [
       "5"
      ]
     },
     "execution_count": 43,
     "metadata": {},
     "output_type": "execute_result"
    }
   ],
   "source": [
    "# Length of list\n",
    "l1 = [1, 2, 3, 4, 5]\n",
    "len(l1)"
   ]
  },
  {
   "cell_type": "code",
   "execution_count": 62,
   "id": "eb8c4ce8",
   "metadata": {},
   "outputs": [
    {
     "name": "stdout",
     "output_type": "stream",
     "text": [
      "[1, 2, 3, 4]\n"
     ]
    }
   ],
   "source": [
    "numbers = [1, 2, 3]\n",
    "numbers.append(4)\n",
    "print(numbers)"
   ]
  },
  {
   "cell_type": "code",
   "execution_count": 63,
   "id": "36d725fd",
   "metadata": {},
   "outputs": [
    {
     "name": "stdout",
     "output_type": "stream",
     "text": [
      "[1, 2, 3, 4, 5]\n"
     ]
    }
   ],
   "source": [
    "numbers = [1, 2, 3]\n",
    "numbers.extend([4, 5])\n",
    "print(numbers)  # Output: [1, 2, 3, 4, 5]"
   ]
  },
  {
   "cell_type": "code",
   "execution_count": 65,
   "id": "28aa7bbf",
   "metadata": {},
   "outputs": [
    {
     "name": "stdout",
     "output_type": "stream",
     "text": [
      "[1, 'inserted', 2, 3]\n"
     ]
    }
   ],
   "source": [
    "numbers = [1, 2, 3]\n",
    "numbers.insert(1, 'inserted')\n",
    "print(numbers)"
   ]
  },
  {
   "cell_type": "code",
   "execution_count": 5,
   "id": "4f86d67f",
   "metadata": {},
   "outputs": [
    {
     "name": "stdout",
     "output_type": "stream",
     "text": [
      "[1, 3, 2]\n"
     ]
    }
   ],
   "source": [
    "numbers = [1, 2, 3, 2]\n",
    "numbers.remove(2)\n",
    "print(numbers)"
   ]
  },
  {
   "cell_type": "code",
   "execution_count": 6,
   "id": "9d85fa69",
   "metadata": {},
   "outputs": [
    {
     "name": "stdout",
     "output_type": "stream",
     "text": [
      "2\n",
      "[1, 3]\n"
     ]
    }
   ],
   "source": [
    "numbers = [1, 2, 3]\n",
    "pop_element = numbers.pop(1)  # Index 1\n",
    "print(pop_element)\n",
    "print(numbers)"
   ]
  },
  {
   "cell_type": "code",
   "execution_count": 7,
   "id": "8fda7c37",
   "metadata": {},
   "outputs": [
    {
     "name": "stdout",
     "output_type": "stream",
     "text": [
      "[]\n"
     ]
    }
   ],
   "source": [
    "numbers = [1, 2, 3]\n",
    "numbers.clear()\n",
    "print(numbers) "
   ]
  },
  {
   "cell_type": "code",
   "execution_count": 8,
   "id": "7c43e43a",
   "metadata": {},
   "outputs": [
    {
     "name": "stdout",
     "output_type": "stream",
     "text": [
      "3\n"
     ]
    }
   ],
   "source": [
    "numbers = [1, 2, 2, 3, 2]\n",
    "count = numbers.count(2)\n",
    "print(count)"
   ]
  },
  {
   "cell_type": "code",
   "execution_count": 66,
   "id": "13d6a0d9",
   "metadata": {},
   "outputs": [
    {
     "name": "stdout",
     "output_type": "stream",
     "text": [
      "[1, 2, 3, 4]\n"
     ]
    }
   ],
   "source": [
    "numbers = [4, 2, 3, 1]\n",
    "numbers.sort()\n",
    "print(numbers) "
   ]
  },
  {
   "cell_type": "code",
   "execution_count": 69,
   "id": "2c9a51a0",
   "metadata": {},
   "outputs": [],
   "source": [
    "numbers = [4, 2, 3, 1]\n",
    "a = sorted(numbers)\n",
    "# numbers"
   ]
  },
  {
   "cell_type": "code",
   "execution_count": 10,
   "id": "9773a24d",
   "metadata": {},
   "outputs": [
    {
     "name": "stdout",
     "output_type": "stream",
     "text": [
      "[4, 3, 2, 1]\n"
     ]
    }
   ],
   "source": [
    "numbers = [1, 2, 3, 4]\n",
    "numbers.reverse() # or numbers[::-1]\n",
    "print(numbers)"
   ]
  },
  {
   "cell_type": "code",
   "execution_count": 29,
   "id": "d5a7e9ff",
   "metadata": {},
   "outputs": [
    {
     "name": "stdout",
     "output_type": "stream",
     "text": [
      "apple\n",
      "banana\n",
      "cherry\n",
      "date\n"
     ]
    }
   ],
   "source": [
    "# How to iterate in list:\n",
    "fruits = ['apple', 'banana', 'cherry', 'date']\n",
    "for fruit in fruits:\n",
    "    print(fruit)"
   ]
  },
  {
   "cell_type": "code",
   "execution_count": 30,
   "id": "85b56f37",
   "metadata": {},
   "outputs": [
    {
     "name": "stdout",
     "output_type": "stream",
     "text": [
      "1\n",
      "2\n",
      "3\n",
      "4\n",
      "5\n",
      "6\n",
      "7\n",
      "8\n",
      "9\n",
      "10\n"
     ]
    }
   ],
   "source": [
    "# 2nd method\n",
    "l = [1,2,3,4,5,6,7,8,9,10]\n",
    "for i in range(0, len(l)):\n",
    "    print(l[i])"
   ]
  },
  {
   "cell_type": "markdown",
   "id": "50804fbb",
   "metadata": {},
   "source": [
    "## Tuple:"
   ]
  },
  {
   "cell_type": "code",
   "execution_count": 80,
   "id": "1cb9b32a",
   "metadata": {},
   "outputs": [
    {
     "name": "stdout",
     "output_type": "stream",
     "text": [
      "<class 'tuple'>\n"
     ]
    },
    {
     "data": {
      "text/plain": [
       "[1, 2, 3, 4, 6]"
      ]
     },
     "execution_count": 80,
     "metadata": {},
     "output_type": "execute_result"
    }
   ],
   "source": [
    "t = (4,1,2,3)\n",
    "print(type(t))\n",
    "# Accessing of Tuples\n",
    "k=sorted(t)\n",
    "k.append(6)\n",
    "k\n"
   ]
  },
  {
   "cell_type": "markdown",
   "id": "1bcc1920",
   "metadata": {},
   "source": [
    "### DIFFERENCE BETWEEN LIST AND TUPLE:\n",
    "* Lists are mutable, meaning you can modify them after their creation. This includes changing, adding, or removing elements. Tuples are immutable, meaning once they are created, their contents cannot be changed. If you need to modify a tuple, you must create a new tuple.\n",
    "* Lists are defined using square brackets []. Tuples are defined using parentheses (), although parentheses can be optional if the context is clear.\n",
    "* Tuples are faster than lists.\n",
    "* Lists are used when you have a collection of items that may need to be modified during the life of a program. Tuples are used when the data should not change after it is created\n",
    "\n",
    "## Dictionary:"
   ]
  },
  {
   "cell_type": "code",
   "execution_count": 22,
   "id": "725f4781",
   "metadata": {},
   "outputs": [
    {
     "name": "stdout",
     "output_type": "stream",
     "text": [
      "dict_keys(['a', 'b', 'c'])\n"
     ]
    }
   ],
   "source": [
    "# keys() - Returns a view of the dictionary's keys\n",
    "dct = {'a': 1, 'b': 2, 'c': 3}\n",
    "keys = dct.keys()\n",
    "print(keys)"
   ]
  },
  {
   "cell_type": "code",
   "execution_count": 23,
   "id": "4e0d7abd",
   "metadata": {},
   "outputs": [
    {
     "name": "stdout",
     "output_type": "stream",
     "text": [
      "dict_values([1, 2, 3])\n"
     ]
    }
   ],
   "source": [
    "# values() - Returns a view of the dictionary's values\n",
    "dct = {'a': 1, 'b': 2, 'c': 3}\n",
    "values = dct.values()\n",
    "print(values)"
   ]
  },
  {
   "cell_type": "code",
   "execution_count": 82,
   "id": "67401ae0",
   "metadata": {},
   "outputs": [
    {
     "name": "stdout",
     "output_type": "stream",
     "text": [
      "dict_items([('a', 1), ('b', 2), ('c', 3)])\n",
      "{'a': 1, 'b': 2, 'c': 3}\n"
     ]
    }
   ],
   "source": [
    "# items() - Returns a view of the dictionary's key-value pairs\n",
    "dct = {'a': 1, 'b': 2, 'c': 3}\n",
    "items = dct.items()\n",
    "print(items)\n",
    "print(dct)"
   ]
  },
  {
   "cell_type": "code",
   "execution_count": 26,
   "id": "5f4567da",
   "metadata": {},
   "outputs": [
    {
     "name": "stdout",
     "output_type": "stream",
     "text": [
      "2\n",
      "Not Found\n"
     ]
    }
   ],
   "source": [
    "# get(key[, default]) - Returns the value for key if key is in the dictionary, else default\n",
    "dct = {'a': 1, 'b': 2, 'c': 3}\n",
    "value = dct.get('b', 'Not Found')\n",
    "print(value)\n",
    "not_found = dct.get('d', 'Not Found')\n",
    "print(not_found)"
   ]
  },
  {
   "cell_type": "code",
   "execution_count": 27,
   "id": "2a0cb89b",
   "metadata": {},
   "outputs": [
    {
     "name": "stdout",
     "output_type": "stream",
     "text": [
      "2\n",
      "{'a': 1, 'c': 3}\n"
     ]
    }
   ],
   "source": [
    "# pop(key[, default]) - Removes the specified key and returns the corresponding value. If the key is not found, default is returned if provided, else KeyError is raised\n",
    "dct = {'a': 1, 'b': 2, 'c': 3}\n",
    "popped = dct.pop('b')\n",
    "print(popped)  # Output: 2\n",
    "print(dct)  # Output: {'a': 1, 'c': 3}\n"
   ]
  },
  {
   "cell_type": "code",
   "execution_count": 28,
   "id": "65aa7280",
   "metadata": {},
   "outputs": [
    {
     "name": "stdout",
     "output_type": "stream",
     "text": [
      "{'a': 1, 'b': 10, 'c': 3}\n"
     ]
    }
   ],
   "source": [
    "# update([other]) - Updates the dictionary with the key/value pairs from other, overwriting existing keys. other can be another dictionary or an iterable of key-value pairs\n",
    "dct = {'a': 1, 'b': 2}\n",
    "dct.update({'b': 10, 'c': 3})\n",
    "print(dct)"
   ]
  },
  {
   "cell_type": "code",
   "execution_count": 33,
   "id": "36d64e3c",
   "metadata": {},
   "outputs": [
    {
     "name": "stdout",
     "output_type": "stream",
     "text": [
      "name :  Alice\n",
      "age :  25\n",
      "city :  New York\n"
     ]
    }
   ],
   "source": [
    "# Iterate in dict:\n",
    "person = {'name': 'Alice', 'age': 25, 'city': 'New York'}\n",
    "for key, value in person.items():\n",
    "#     print(f\"{key}: {value}\")\n",
    "    print(key, \": \", value)"
   ]
  },
  {
   "cell_type": "markdown",
   "id": "ced29186",
   "metadata": {},
   "source": [
    "## Sets:"
   ]
  },
  {
   "cell_type": "code",
   "execution_count": 34,
   "id": "5a21c491",
   "metadata": {},
   "outputs": [
    {
     "name": "stdout",
     "output_type": "stream",
     "text": [
      "{'banana', 'cherry', 'apple'}\n"
     ]
    }
   ],
   "source": [
    "# add(elem) - Adds an element to the set\n",
    "fruits = {'apple', 'banana'}\n",
    "fruits.add('cherry')\n",
    "print(fruits)  # Output may vary in order, e.g., {'banana', 'cherry', 'apple'}\n"
   ]
  },
  {
   "cell_type": "code",
   "execution_count": 36,
   "id": "55ad2fa3",
   "metadata": {},
   "outputs": [
    {
     "name": "stdout",
     "output_type": "stream",
     "text": [
      "{'cherry', 'apple'}\n"
     ]
    }
   ],
   "source": [
    "# remove(elem) - Removes an element from the set. Raises a KeyError if the element is not present\n",
    "fruits = {'apple', 'banana', 'cherry'}\n",
    "fruits.remove('banana')\n",
    "print(fruits)  # Output may vary in order, e.g., {'cherry', 'apple'}\n",
    "# fruits.remove('banana')  # This would raise a KeyError because 'banana' is no longer in the set\n"
   ]
  },
  {
   "cell_type": "code",
   "execution_count": 88,
   "id": "01d6b1a5",
   "metadata": {},
   "outputs": [
    {
     "name": "stdout",
     "output_type": "stream",
     "text": [
      "banana\n",
      "{'cherry', 'apple'}\n"
     ]
    }
   ],
   "source": [
    "# pop\n",
    "fruits = {'apple', 'banana', 'cherry'}\n",
    "fruits.pop()\n",
    "print(popped)  # Output could be any of 'apple', 'banana', or 'cherry'\n",
    "print(fruits)  # Remaining set, excluding the popped element"
   ]
  },
  {
   "cell_type": "code",
   "execution_count": 84,
   "id": "e5da9ce8",
   "metadata": {},
   "outputs": [
    {
     "name": "stdout",
     "output_type": "stream",
     "text": [
      "{'banana', 'cherry', 'apple', 'date'}\n"
     ]
    }
   ],
   "source": [
    "# union(s) - Returns a new set with elements from the set and all others\n",
    "set1 = {'apple', 'banana'}\n",
    "set2 = {'cherry', 'date'}\n",
    "combined = set1.union(set2)\n",
    "print(combined)  # Output may vary in order, e.g., {'cherry', 'apple', 'banana', 'date'}"
   ]
  },
  {
   "cell_type": "code",
   "execution_count": 39,
   "id": "d173ade1",
   "metadata": {},
   "outputs": [
    {
     "name": "stdout",
     "output_type": "stream",
     "text": [
      "{'banana'}\n"
     ]
    }
   ],
   "source": [
    "# intersection(s) - Returns a new set with elements common to the set and all others\n",
    "set1 = {'apple', 'banana', 'cherry'}\n",
    "set2 = {'banana', 'date', 'fig'}\n",
    "common = set1.intersection(set2)\n",
    "print(common)"
   ]
  },
  {
   "cell_type": "code",
   "execution_count": 40,
   "id": "3243d6da",
   "metadata": {},
   "outputs": [
    {
     "name": "stdout",
     "output_type": "stream",
     "text": [
      "{'apple', 'cherry'}\n"
     ]
    }
   ],
   "source": [
    "# difference(s) - Returns a new set with elements in the set that are not in the others\n",
    "set1 = {'apple', 'banana', 'cherry'}\n",
    "set2 = {'banana', 'date'}\n",
    "unique = set1.difference(set2)\n",
    "print(unique)"
   ]
  },
  {
   "cell_type": "markdown",
   "id": "e0e93159",
   "metadata": {},
   "source": [
    "## List Comprehension:\n",
    "It provides a concise way to create lists based on existing lists"
   ]
  },
  {
   "cell_type": "code",
   "execution_count": 46,
   "id": "06d8efd1",
   "metadata": {},
   "outputs": [
    {
     "name": "stdout",
     "output_type": "stream",
     "text": [
      "['banana', 'cherry']\n",
      "['banana', 'cherry']\n"
     ]
    }
   ],
   "source": [
    "# For example, to get a list of all fruits with more than 5 letters, how we will do it\n",
    "fruits = ['apple', 'banana', 'cherry', 'date']\n",
    "new_list = []\n",
    "for fruit in fruits:\n",
    "    if len(fruit) > 5:\n",
    "        new_list.append(fruit)\n",
    "        \n",
    "print(new_list)\n",
    "\n",
    "\n",
    "# Second way:\n",
    "print(long_fruits)  # Output: ['banana', 'cherry']\n"
   ]
  }
 ],
 "metadata": {
  "kernelspec": {
   "display_name": "Python [conda env:mldlenv] *",
   "language": "python",
   "name": "conda-env-mldlenv-py"
  },
  "language_info": {
   "codemirror_mode": {
    "name": "ipython",
    "version": 3
   },
   "file_extension": ".py",
   "mimetype": "text/x-python",
   "name": "python",
   "nbconvert_exporter": "python",
   "pygments_lexer": "ipython3",
   "version": "3.9.17"
  }
 },
 "nbformat": 4,
 "nbformat_minor": 5
}
